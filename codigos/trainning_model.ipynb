{
 "cells": [
  {
   "cell_type": "code",
   "execution_count": null,
   "id": "f7d88995",
   "metadata": {},
   "outputs": [],
   "source": [
    "import pandas as pd\n",
    "import numpy as np\n",
    "import matplotlib.pyplot as plt\n",
    "import pickle as pkl\n",
    "from itertools import islice\n",
    "from sklearn.model_selection import train_test_split\n",
    "from sklearn.linear_model import LinearRegression\n"
   ]
  },
  {
   "cell_type": "code",
   "execution_count": 2,
   "id": "d5d1165e",
   "metadata": {},
   "outputs": [],
   "source": [
    "path = '/home/luiz/tcc/TCC-LUIZ/datasets/trajectory_ball_filtered_np.pkl'"
   ]
  },
  {
   "cell_type": "code",
   "execution_count": 3,
   "id": "5570adcc",
   "metadata": {},
   "outputs": [],
   "source": [
    "# Abrindo o arquivo pkl com os dados\n",
    "with open(path, 'rb') as f:\n",
    "    ball = pkl.load(f)"
   ]
  },
  {
   "cell_type": "code",
   "execution_count": 4,
   "id": "fc94424a",
   "metadata": {},
   "outputs": [
    {
     "data": {
      "text/plain": [
       "(38917, 4)"
      ]
     },
     "execution_count": 4,
     "metadata": {},
     "output_type": "execute_result"
    }
   ],
   "source": [
    "ball.shape"
   ]
  },
  {
   "cell_type": "code",
   "execution_count": 5,
   "id": "89175cf6",
   "metadata": {},
   "outputs": [
    {
     "data": {
      "text/plain": [
       "array([[ 1.72154765e+09, -2.92506360e+00,  2.85018730e+00,\n",
       "                    nan],\n",
       "       [ 1.72154765e+09, -3.56270980e+00,  2.64928840e+00,\n",
       "                    nan],\n",
       "       [ 1.72154765e+09, -3.66484430e+00,  3.40293480e+00,\n",
       "                    nan],\n",
       "       ...,\n",
       "       [ 1.72154971e+09, -1.44231590e+03,  1.42002610e+03,\n",
       "                    nan],\n",
       "       [ 1.72154971e+09, -1.44536740e+03,  1.42300270e+03,\n",
       "                    nan],\n",
       "       [ 1.72154971e+09, -1.44630630e+03,  1.42358890e+03,\n",
       "                    nan]])"
      ]
     },
     "execution_count": 5,
     "metadata": {},
     "output_type": "execute_result"
    }
   ],
   "source": [
    "ball"
   ]
  },
  {
   "cell_type": "code",
   "execution_count": 80,
   "id": "00ea1d2a",
   "metadata": {},
   "outputs": [],
   "source": [
    "data = ball[0:1000, 1:3]"
   ]
  },
  {
   "cell_type": "code",
   "execution_count": 81,
   "id": "a29874e6",
   "metadata": {},
   "outputs": [
    {
     "data": {
      "text/plain": [
       "array([[  -2.9250636,    2.8501873],\n",
       "       [  -3.5627098,    2.6492884],\n",
       "       [  -3.6648443,    3.4029348],\n",
       "       ...,\n",
       "       [2037.9207   , -562.6387   ],\n",
       "       [2038.6077   , -564.1657   ],\n",
       "       [2037.6696   , -565.23267  ]])"
      ]
     },
     "execution_count": 81,
     "metadata": {},
     "output_type": "execute_result"
    }
   ],
   "source": [
    "data"
   ]
  },
  {
   "cell_type": "code",
   "execution_count": 82,
   "id": "8125bfbd",
   "metadata": {},
   "outputs": [],
   "source": [
    "data = data[~np.isnan(data).any(axis=1)]"
   ]
  },
  {
   "cell_type": "code",
   "execution_count": 83,
   "id": "ec492dc1",
   "metadata": {},
   "outputs": [],
   "source": [
    "def create_dataset(data, n_steps_in, n_steps_out):\n",
    "    X, y = [], []\n",
    "    for i in range(len(data)):\n",
    "        end_ix = i + n_steps_in\n",
    "        end_out_ix = end_ix + n_steps_out\n",
    "\n",
    "        if end_out_ix > len(data):\n",
    "            break\n",
    "\n",
    "        seq_x = data[i:end_ix]\n",
    "        seq_y = data[end_ix:end_out_ix]\n",
    "        X.append(seq_x)\n",
    "        y.append(seq_y)\n",
    "    \n",
    "    return np.array(X), np.array(y)"
   ]
  },
  {
   "cell_type": "code",
   "execution_count": 84,
   "id": "aeb82893",
   "metadata": {},
   "outputs": [],
   "source": [
    "# Definindo a janela\n",
    "n_steps_in = 5  # Usar 4 pontos para prever o próximo\n",
    "n_steps_out = 1 # Prever 1 ponto\n",
    "\n",
    "# Gerando o dataset com janelas\n",
    "X, y = create_dataset(data, n_steps_in, n_steps_out)"
   ]
  },
  {
   "cell_type": "code",
   "execution_count": 85,
   "id": "1a507173",
   "metadata": {},
   "outputs": [
    {
     "data": {
      "text/plain": [
       "array([[[  -2.9250636,    2.8501873],\n",
       "        [  -3.5627098,    2.6492884],\n",
       "        [  -3.6648443,    3.4029348],\n",
       "        [  -4.3865337,    3.1626225],\n",
       "        [  -3.9018857,    2.5838504]],\n",
       "\n",
       "       [[  -3.5627098,    2.6492884],\n",
       "        [  -3.6648443,    3.4029348],\n",
       "        [  -4.3865337,    3.1626225],\n",
       "        [  -3.9018857,    2.5838504],\n",
       "        [  -4.276483 ,    2.709127 ]],\n",
       "\n",
       "       [[  -3.6648443,    3.4029348],\n",
       "        [  -4.3865337,    3.1626225],\n",
       "        [  -3.9018857,    2.5838504],\n",
       "        [  -4.276483 ,    2.709127 ],\n",
       "        [  -3.3554912,    2.0483112]],\n",
       "\n",
       "       ...,\n",
       "\n",
       "       [[2038.4117   , -557.79675  ],\n",
       "        [2037.476    , -558.74384  ],\n",
       "        [2037.0106   , -558.69196  ],\n",
       "        [2037.6984   , -560.7799   ],\n",
       "        [2038.2692   , -562.09863  ]],\n",
       "\n",
       "       [[2037.476    , -558.74384  ],\n",
       "        [2037.0106   , -558.69196  ],\n",
       "        [2037.6984   , -560.7799   ],\n",
       "        [2038.2692   , -562.09863  ],\n",
       "        [2037.9207   , -562.6387   ]],\n",
       "\n",
       "       [[2037.0106   , -558.69196  ],\n",
       "        [2037.6984   , -560.7799   ],\n",
       "        [2038.2692   , -562.09863  ],\n",
       "        [2037.9207   , -562.6387   ],\n",
       "        [2038.6077   , -564.1657   ]]])"
      ]
     },
     "execution_count": 85,
     "metadata": {},
     "output_type": "execute_result"
    }
   ],
   "source": [
    "X"
   ]
  },
  {
   "cell_type": "code",
   "execution_count": 86,
   "id": "e8d0b4a7",
   "metadata": {},
   "outputs": [
    {
     "data": {
      "text/plain": [
       "array([[[-4.2764830e+00,  2.7091270e+00]],\n",
       "\n",
       "       [[-3.3554912e+00,  2.0483112e+00]],\n",
       "\n",
       "       [[-4.5808444e+00,  1.7529768e+00]],\n",
       "\n",
       "       ...,\n",
       "\n",
       "       [[ 2.0379207e+03, -5.6263870e+02]],\n",
       "\n",
       "       [[ 2.0386077e+03, -5.6416570e+02]],\n",
       "\n",
       "       [[ 2.0376696e+03, -5.6523267e+02]]])"
      ]
     },
     "execution_count": 86,
     "metadata": {},
     "output_type": "execute_result"
    }
   ],
   "source": [
    "y"
   ]
  },
  {
   "cell_type": "code",
   "execution_count": 87,
   "id": "a6a1be61",
   "metadata": {},
   "outputs": [
    {
     "name": "stdout",
     "output_type": "stream",
     "text": [
      "Shape do X: (995, 5, 2)\n",
      "Shape do y: (995, 1, 2)\n"
     ]
    }
   ],
   "source": [
    "print(f\"Shape do X: {X.shape}\")\n",
    "print(f\"Shape do y: {y.shape}\")"
   ]
  },
  {
   "cell_type": "code",
   "execution_count": 88,
   "id": "0b15d523",
   "metadata": {},
   "outputs": [],
   "source": [
    "# Divisão cronológica (70% treino, 20% validação, 10% teste)\n",
    "train_size = int(len(X) * 0.7)\n",
    "val_size = int(len(X) * 0.2)\n",
    "test_size = len(X) - train_size - val_size"
   ]
  },
  {
   "cell_type": "code",
   "execution_count": 89,
   "id": "635f4cc3",
   "metadata": {},
   "outputs": [
    {
     "name": "stdout",
     "output_type": "stream",
     "text": [
      "Tamanho do conjunto de treino: 696\n",
      "Tamanho do conjunto de validação: 199\n",
      "Tamanho do conjunto de teste: 100\n"
     ]
    }
   ],
   "source": [
    "print(f\"Tamanho do conjunto de treino: {train_size}\")\n",
    "print(f\"Tamanho do conjunto de validação: {val_size}\")\n",
    "print(f\"Tamanho do conjunto de teste: {test_size}\")"
   ]
  },
  {
   "cell_type": "code",
   "execution_count": 90,
   "id": "c975c237",
   "metadata": {},
   "outputs": [],
   "source": [
    "X_train, y_train = X[:train_size], y[:train_size]\n",
    "X_val, y_val = X[train_size:train_size + val_size], y[train_size:train_size + val_size]\n",
    "X_test, y_test = X[train_size + val_size:], y[train_size + val_size:]"
   ]
  },
  {
   "cell_type": "code",
   "execution_count": 91,
   "id": "89f3fa0f",
   "metadata": {},
   "outputs": [
    {
     "name": "stdout",
     "output_type": "stream",
     "text": [
      "Shape do X_train: (696, 5, 2), Shape do y_train: (696, 1, 2)\n",
      "Shape do X_val: (199, 5, 2), Shape do y_val: (199, 1, 2)\n",
      "Shape do X_test: (100, 5, 2), Shape do y_test: (100, 1, 2)\n"
     ]
    }
   ],
   "source": [
    "print(f\"Shape do X_train: {X_train.shape}, Shape do y_train: {y_train.shape}\")\n",
    "print(f\"Shape do X_val: {X_val.shape}, Shape do y_val: {y_val.shape}\")\n",
    "print(f\"Shape do X_test: {X_test.shape}, Shape do y_test: {y_test.shape}\")\n"
   ]
  },
  {
   "cell_type": "code",
   "execution_count": null,
   "id": "68df6ff7",
   "metadata": {},
   "outputs": [
    {
     "name": "stdout",
     "output_type": "stream",
     "text": [
      "\n",
      "Pontuação de Treino: 0.9995\n",
      "Pontuação de Teste: 0.9633\n"
     ]
    }
   ],
   "source": [
    "X_train_flat = X_train.reshape(X_train.shape[0], -1)\n",
    "y_train_flat = y_train.reshape(y_train.shape[0], -1)\n",
    "\n",
    "X_val_flat = X_val.reshape(X_val.shape[0], -1)\n",
    "y_val_flat = y_val.reshape(y_val.shape[0], -1)\n",
    "\n",
    "X_test_flat = X_test.reshape(X_test.shape[0], -1)\n",
    "y_test_flat = y_test.reshape(y_test.shape[0], -1)\n",
    "\n",
    "model = LinearRegression()\n",
    "model.fit(X_train_flat, y_train_flat)\n",
    "\n",
    "# Avaliação do modelo\n",
    "train_score = model.score(X_train_flat, y_train_flat)\n",
    "test_score = model.score(X_test_flat, y_test_flat)\n",
    "\n",
    "print(f\"\\nPontuação de Treino: {train_score:.4f}\")\n",
    "print(f\"Pontuação de Teste: {test_score:.4f}\")"
   ]
  },
  {
   "cell_type": "code",
   "execution_count": null,
   "id": "7c226790",
   "metadata": {},
   "outputs": [
    {
     "data": {
      "image/png": "[encoded data removed]",
      "text/plain": [
       "<Figure size 1200x800 with 1 Axes>"
      ]
     },
     "metadata": {},
     "output_type": "display_data"
    }
   ],
   "source": [
    "import matplotlib.pyplot as plt\n",
    "import seaborn as sns\n",
    "\n",
    "# Configurações para um gráfico com um visual mais agradável\n",
    "sns.set_style(\"darkgrid\")\n",
    "plt.figure(figsize=(12, 8))\n",
    "\n",
    "# Pegar uma porção dos dados de teste para visualização\n",
    "# Vamos usar os primeiros 20 pontos\n",
    "num_points_to_plot = 50\n",
    "\n",
    "# Trajetória real (x e y do y_test)\n",
    "real_x = y_test_flat[:num_points_to_plot, 0]\n",
    "real_y = y_test_flat[:num_points_to_plot, 1]\n",
    "\n",
    "# Previsões do modelo\n",
    "predictions = model.predict(X_test_flat[:num_points_to_plot])\n",
    "predicted_x = predictions[:, 0]\n",
    "predicted_y = predictions[:, 1]\n",
    "\n",
    "# Plotar a trajetória real\n",
    "plt.plot(real_x, real_y, 'o-', color='blue', label='Trajetória Real')\n",
    "\n",
    "# Plotar as previsões do modelo\n",
    "plt.plot(predicted_x, predicted_y, 'x--', color='red', label='Previsão do Modelo')\n",
    "\n",
    "# Plotar as janelas de entrada para referência\n",
    "# Cada janela de entrada tem 4 pontos\n",
    "for i in range(num_points_to_plot):\n",
    "    window_x = X_test_flat[i, ::2]  # Coordenadas X da janela de entrada\n",
    "    window_y = X_test_flat[i, 1::2]  # Coordenadas Y da janela de entrada\n",
    "    plt.plot(window_x, window_y, 'g.', markersize=8) # Pontos da janela de entrada\n",
    "\n",
    "# Configurar o gráfico\n",
    "plt.title('Trajetória Real vs. Previsão do Modelo', fontsize=10)\n",
    "plt.xlabel('Posição X', fontsize=10)\n",
    "plt.ylabel('Posição Y', fontsize=10)\n",
    "plt.legend(fontsize=10)\n",
    "plt.gca().set_aspect('equal', adjustable='box') # Garantir que o gráfico não fique achatado\n",
    "plt.show()"
   ]
  }
 ],
 "metadata": {
  "kernelspec": {
   "display_name": "tcc",
   "language": "python",
   "name": "python3"
  },
  "language_info": {
   "codemirror_mode": {
    "name": "ipython",
    "version": 3
   },
   "file_extension": ".py",
   "mimetype": "text/x-python",
   "name": "python",
   "nbconvert_exporter": "python",
   "pygments_lexer": "ipython3",
   "version": "3.11.13"
  }
 },
 "nbformat": 4,
 "nbformat_minor": 5
}
