{
 "cells": [
  {
   "cell_type": "code",
   "execution_count": 1,
   "id": "f7d88995",
   "metadata": {},
   "outputs": [],
   "source": [
    "import pandas as np\n",
    "import matplotlib.pyplot as plt\n",
    "import pickle as pkl\n",
    "from itertools import islice\n",
    "from sklearn.model_selection import train_test_split\n",
    "from sklearn.linear_model import LinearRegression"
   ]
  },
  {
   "cell_type": "code",
   "execution_count": 2,
   "id": "d5d1165e",
   "metadata": {},
   "outputs": [],
   "source": [
    "path = '/home/luiz/tcc/TCC-LUIZ/datasets/trajectory_ball_filtered_np.pkl'"
   ]
  },
  {
   "cell_type": "code",
   "execution_count": 3,
   "id": "5570adcc",
   "metadata": {},
   "outputs": [],
   "source": [
    "# Abrindo o arquivo pkl com os dados\n",
    "with open(path, 'rb') as f:\n",
    "    ball = pkl.load(f)"
   ]
  },
  {
   "cell_type": "code",
   "execution_count": 4,
   "id": "fc94424a",
   "metadata": {},
   "outputs": [
    {
     "data": {
      "text/plain": [
       "(38917, 4)"
      ]
     },
     "execution_count": 4,
     "metadata": {},
     "output_type": "execute_result"
    }
   ],
   "source": [
    "ball.shape"
   ]
  },
  {
   "cell_type": "code",
   "execution_count": 5,
   "id": "89175cf6",
   "metadata": {},
   "outputs": [
    {
     "data": {
      "text/plain": [
       "array([[ 1.72154765e+09, -2.92506360e+00,  2.85018730e+00,\n",
       "                    nan],\n",
       "       [ 1.72154765e+09, -3.56270980e+00,  2.64928840e+00,\n",
       "                    nan],\n",
       "       [ 1.72154765e+09, -3.66484430e+00,  3.40293480e+00,\n",
       "                    nan],\n",
       "       ...,\n",
       "       [ 1.72154971e+09, -1.44231590e+03,  1.42002610e+03,\n",
       "                    nan],\n",
       "       [ 1.72154971e+09, -1.44536740e+03,  1.42300270e+03,\n",
       "                    nan],\n",
       "       [ 1.72154971e+09, -1.44630630e+03,  1.42358890e+03,\n",
       "                    nan]])"
      ]
     },
     "execution_count": 5,
     "metadata": {},
     "output_type": "execute_result"
    }
   ],
   "source": [
    "ball"
   ]
  },
  {
   "cell_type": "code",
   "execution_count": 6,
   "id": "00ea1d2a",
   "metadata": {},
   "outputs": [],
   "source": [
    "ball_1000 = ball[0:1000]"
   ]
  },
  {
   "cell_type": "code",
   "execution_count": null,
   "id": "a29874e6",
   "metadata": {},
   "outputs": [],
   "source": [
    "ball"
   ]
  },
  {
   "cell_type": "code",
   "execution_count": null,
   "id": "c975c237",
   "metadata": {},
   "outputs": [],
   "source": [
    "def create_dataset(data, n_steps_in, n_steps_out):\n",
    "    X, y = [], []\n",
    "    for i in range(len(data)):\n",
    "        end_ix = i + n_steps_in\n",
    "        # encontra o fim da janela de saída\n",
    "        end_out_ix = end_ix + n_steps_out\n",
    "\n",
    "        # se a janela de saída exceder o dataset, pare\n",
    "        if end_out_ix > len(data):\n",
    "            break\n",
    "\n",
    "        # separa as janelas\n",
    "        seq_x, seq_y = data.iloc[i:end_ix], data.iloc[end_ix:end_out_ix]\n",
    "        X.append(seq_x.values)\n",
    "        y.append(seq_y.values)\n",
    "\n",
    "    return np.array(X), np.array(y)\n",
    "\n",
    "# Definindo a janela\n",
    "n_steps_in = 4  # Usar 4 pontos para prever o próximo\n",
    "n_steps_out = 1 # Prever 1 ponto\n",
    "\n",
    "# Gerando o dataset com janelas\n",
    "X, y = create_dataset(df[['x', 'y']], n_steps_in, n_steps_out)\n",
    "\n",
    "# Note que o 'tempo' não está nas features, pois o tempo\n",
    "# já está \"implícito\" na ordem da série temporal.\n",
    "# O `X` terá shape (N, 4, 2) e `y` terá shape (N, 1, 2)\n",
    "# onde 2 são as features (x, y)"
   ]
  }
 ],
 "metadata": {
  "kernelspec": {
   "display_name": "tcc",
   "language": "python",
   "name": "python3"
  },
  "language_info": {
   "codemirror_mode": {
    "name": "ipython",
    "version": 3
   },
   "file_extension": ".py",
   "mimetype": "text/x-python",
   "name": "python",
   "nbconvert_exporter": "python",
   "pygments_lexer": "ipython3",
   "version": "3.11.13"
  }
 },
 "nbformat": 4,
 "nbformat_minor": 5
}
